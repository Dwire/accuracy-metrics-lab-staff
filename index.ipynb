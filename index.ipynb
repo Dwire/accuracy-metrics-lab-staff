{
 "cells": [
  {
   "cell_type": "markdown",
   "metadata": {},
   "source": [
    "# Accuracy Metrics Lab\n",
    "\n",
    "## Measuring Classifier Performance Metrics\n",
    "\n",
    "## Objective:\n",
    "\n",
    "* Create and interpret a Confusion Matrix.\n",
    "* Calculate Precision, and identify use cases for this metric.\n",
    "* Calculate Recall, and identify use cases for this metric.\n",
    "* Calculate Accuracy, and identify use cases for this metric.\n",
    "* Calculate F-score, and identify use cases for this metric.\n",
    "\n",
    "## Measuring Classifier Performance"
   ]
  },
  {
   "cell_type": "code",
   "execution_count": null,
   "metadata": {},
   "outputs": [],
   "source": []
  }
 ],
 "metadata": {
  "kernelspec": {
   "display_name": "Python 3",
   "language": "python",
   "name": "python3"
  },
  "language_info": {
   "codemirror_mode": {
    "name": "ipython",
    "version": 3
   },
   "file_extension": ".py",
   "mimetype": "text/x-python",
   "name": "python",
   "nbconvert_exporter": "python",
   "pygments_lexer": "ipython3",
   "version": "3.6.4"
  }
 },
 "nbformat": 4,
 "nbformat_minor": 2
}
